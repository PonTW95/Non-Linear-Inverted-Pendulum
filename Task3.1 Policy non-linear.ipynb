{
 "cells": [
  {
   "cell_type": "code",
   "metadata": {
    "tags": [],
    "deepnote_to_be_reexecuted": false,
    "source_hash": "728ae124",
    "execution_start": 1623126895032,
    "execution_millis": 1745,
    "cell_id": "00000-72b33e24-28ce-4564-a074-33ec43a76709",
    "deepnote_cell_type": "code"
   },
   "source": "import random\nimport numpy as np\nimport matplotlib.pyplot as plt\nimport sobol_seq\nfrom scipy.optimize import minimize,Bounds\nfrom CartPole import CartPole",
   "execution_count": null,
   "outputs": []
  },
  {
   "cell_type": "markdown",
   "source": "# 3.1 Linear Policy, Non-Linear Model Observation Noise",
   "metadata": {
    "tags": [],
    "cell_id": "00001-82209a8d-2ef3-4c5a-b298-15955253164e",
    "deepnote_cell_type": "text-cell-h1"
   }
  },
  {
   "cell_type": "code",
   "metadata": {
    "tags": [],
    "deepnote_to_be_reexecuted": false,
    "source_hash": "dd5f8a13",
    "execution_start": 1623126897668,
    "execution_millis": 28398,
    "cell_id": "00002-81075425-8529-4b86-8b6a-6f27ebd5b608",
    "deepnote_cell_type": "code"
   },
   "source": "\n#Kernel Function \ndef kernel_func(x0,x1,sig):\n    delta_x = x0-x1\n    delta_x_2 = np.zeros([4,1])\n    for i in range(4):\n        delta_x_2[i]=(delta_x[i])**2\n    delta_x_2[2]=np.sin(0.5*(delta_x[2]))**2\n    expo = (-0.5)*float(np.dot(sig, delta_x_2))\n    kernel = np.e**expo\n    return kernel\n#range of input for creating data\ndef r_range(i, minimum,maximum):\n    d = i*(maximum-minimum)\n    output = np.full(np.shape(i),minimum)+d\n    return output\n#generate datapoints using sobol_seq\ndef generate_x(n):\n    x_data = sobol_seq.i4_sobol_generate(4,n)\n    d_0=r_range(x_data[:,0],-50,50)\n    d_1=r_range(x_data[:,1],-10,10)\n    d_2=r_range(x_data[:,2],-(np.pi),np.pi)\n    d_3=r_range(x_data[:,3],-15,15)\n    output = np.column_stack((d_0,d_1,d_2,d_3))\n    return output\ndef K_matrix(a,b,sig_invert):\n    A = np.shape(a)[0]\n    B = np.shape(b)[0]\n    K = np.zeros(shape=(A,B))\n    for i in range(A):\n        for j in range(B):\n            K[i][j] =kernel_func(a[i],b[j],sig_invert)\n    return K\n\nx= CartPole()\nN =500\nM = 200\nsigma =[2.63690e-16,1.6274e-06, 2.6313, 1.3831e-02, 2.464e-04]\nX = generate_x(N)\nX_M = generate_x(M)\nlamda = 1e-4\n# generate a Nx4 matrix\n# generate corresponding y\nY = np.zeros(shape=(N,4))\nfor i in range(N):\n    x.setState(X[i,:4])\n    x.performAction(X[i,-1])\n    Y[i] = x.getState() - X[i,:4]\n\nKNN = K_matrix(X,X, sigma)\nKMN = K_matrix(X_M, X, sigma)\nKNM = K_matrix(X, X_M, sigma)\nKMM = K_matrix(X_M, X_M, sigma)\n#alpha = (KMN@KNM + lamda*KMM)^-1(KMN@Y)\n#alpha = (c)^-1*(d)\nc = KMN @ KNM +lamda*KMM\nd = np.zeros([4,M])\nmatrix_alphas = np.zeros([4,M])\nfor i in range(4):\n    d[i] = KMN @ Y_change_State[:,i]\n    matrix_alphas[i]=np.linalg.lstsq(c,d[i],rcond=-1)[0]\ndef model_pred_control(p):\n    CartpoleState.setState([0, 0, 0.1, 0])\n    pred = np.zeros(shape=(15,5))\n    l = 0\n    for i in range(15):\n        l += CartpoleState.loss()\n        noise = 0.05 * np.random.normal(0, 1, (4,))\n        f = np.dot(p, CartpoleState.getState())\n        pred[i, :4] = CartpoleState.getState()+noise\n        pred[i, -1] = f\n        K1M_pred = np.array([kernel_gauss(pred[i], s,sigma) for s in X_M])\n        c = K1M_pred @ alphas.transpose()\n        new_pred = c + pred[i,:4]\n        CartpoleState.setState(new_pred)\n        CartpoleState.remap_angle()\n    return l\n\n",
   "execution_count": null,
   "outputs": []
  },
  {
   "cell_type": "markdown",
   "source": "### Optimizing Policy Parameters",
   "metadata": {
    "tags": [],
    "cell_id": "00003-d4f4133f-3f45-4313-a6de-479e1dfbd378",
    "deepnote_cell_type": "text-cell-h3"
   }
  },
  {
   "cell_type": "code",
   "metadata": {
    "tags": [],
    "deepnote_to_be_reexecuted": false,
    "source_hash": "1650e681",
    "execution_start": 1623127366433,
    "execution_millis": 720508,
    "cell_id": "00004-09d20b27-4640-4429-b49d-b53289171859",
    "deepnote_cell_type": "code"
   },
   "source": "p_1 = [  8.93643704,  12.10589224, 122.87328005,  21.14929645] \n\n# 0.1\n# x0 = np.array([ 2.02341039,  3.2269465 , 74.44066079, 11.26992476])\n# [-3.35802526,  4.51585084, 75.99296052, 13.08667829] \n# [-27.31719334,  20.01673045,  27.35351323,  29.13319048] \n# [ -0.56636693,  13.40674337, 102.23761576,  24.65008773] \n# [  8.86874351,  12.5770018 , 118.85806506,  22.32026644] \n# 0.2\n# [ 5.87200144,  6.43440688, 98.36793522, 15.06893969]\n# [  8.93643704,  12.10589224, 122.87328005,  21.14929645] \n\n# [-3.35802526,  4.51585084, 75.99296052, 13.08667829]\n# [ 2.02341039,  3.2269465 , 74.44066079, 11.26992476]\nres = minimize(model_pred_control,[64.55803217, 8.25290263,1.10774183, 16.46884571], method='nelder-mead',\n               options={'maxiter':3000,'xatol': 1e-5, 'disp': True})\nprint(res.x)",
   "execution_count": null,
   "outputs": [
    {
     "name": "stdout",
     "text": "Warning: Maximum number of iterations has been exceeded.\n[66.97895838  8.56238648  1.06620151 17.08642742]\n",
     "output_type": "stream"
    }
   ]
  },
  {
   "cell_type": "markdown",
   "source": "### Time Evolution/ Rollouts",
   "metadata": {
    "tags": [],
    "cell_id": "00005-cc71b02c-b2e5-4a08-8eb6-fa5272cb57bc",
    "deepnote_cell_type": "text-cell-h3"
   }
  },
  {
   "cell_type": "code",
   "metadata": {
    "tags": [],
    "deepnote_to_be_reexecuted": false,
    "source_hash": "62ad7435",
    "execution_start": 1623128086934,
    "execution_millis": 1,
    "cell_id": "00005-27e9a35d-7a47-46cc-a36f-0f43994a84b9",
    "deepnote_cell_type": "code"
   },
   "source": "\ndef plot_evolution_policy(n, p):\n    init_state_array = np.array([[0, 0, 0.2, 0],[0, 0, 0.12, 0], [0, 0, 0.1, 0], [0, 0, 0.12, 0]])\n\n    x0 = np.zeros([4,n])\n    x1 = np.zeros([4,n])\n    x2 = np.zeros([4,n])\n    x3 = np.zeros([4,n])\n    x4 = np.zeros([4,n])\n\n    x_0 = np.zeros([4,n])\n    x_1 = np.zeros([4,n])\n    x_2 = np.zeros([4,n])\n    x_3 = np.zeros([4,n])\n    x_4 = np.zeros([4,n])\n\n    ind = 0\n    for init in init_state_array:\n        CartpoleState.setState(init)\n        l = 0\n        for i in range(n):\n            cur_state = CartpoleState.getState()\n            noise = 0.05 * np.random.normal(0, 1, (4,))\n            cur_state+=noise\n            x0[ind][i], x1[ind][i], x2[ind][i], x3[ind][i] = cur_state[0], cur_state[1], cur_state[2], cur_state[3]\n            l += CartpoleState.loss()\n            f = np.dot(p, CartpoleState.getState())\n            x4[ind][i] = f\n            K1M_pred = np.array([kernel_gauss(np.array([x0[ind][i], x1[ind][i], x2[ind][i], x3[ind][i],x4[ind][i]]), s, sigma) for s in X_M])\n            c = K1M_pred @ alphas.transpose()\n            new_pred = c + cur_state\n            CartpoleState.setState(new_pred)\n            CartpoleState.remap_angle()\n            # TrainingCartPole.remap_angle()\n        ind += 1\n\n    X = np.array([x0, x1, x2, x3, x4])\n    ind=0\n    for init in init_state_array:\n        CartpoleState.setState(init)\n        l = 0\n        for i in range(n):\n            cur_state = CartpoleState.getState()\n            x_0[ind][i], x_1[ind][i], x_2[ind][i], x_3[ind][i] = cur_state[0], cur_state[1], cur_state[2], cur_state[3]\n            l += CartpoleState.loss()\n            f = np.dot(p, CartpoleState.getState())\n            x_4[ind][i] = f\n            K1M_pred = np.array([kernel_gauss(np.array([x_0[ind][i], x_1[ind][i], x_2[ind][i], x_3[ind][i],x_4[ind][i]]), s, sigma) for s in X_M])\n            c = K1M_pred @ alphas.transpose()\n            new_pred = c + cur_state\n            CartpoleState.setState(new_pred)\n            CartpoleState.remap_angle()\n            # TrainingCartPole.remap_angle()\n        ind += 1\n\n    X_no = np.array([x_0,x_1,x_2,x_3,x_4])\n\n    fig1, axs1 = plt.subplots(4,figsize=(10,5))\n    fig1.suptitle('Time evolution of variables With Observation noise')\n\n    time = np.arange(0, 0.2*n, 0.2)\n    states = [\"location\", \"velocity\", \"pole angle\", \"pole velocity\"]\n\n    index = 0\n    for i in range(4):\n        axs1[i].plot(time, X[index][0],'--', color='royalblue',label = 'Noise ' +f\"X = {init_state_array[0]}\")\n        axs1[i].plot(time, X[index][3],'--',color = 'black', label = 'Noise ' + f\"X = {init_state_array[3]}\")\n        \n        axs1[i].plot(time, X_no[index][0], color='royalblue',label = f\"X = {init_state_array[0]}\")\n        axs1[i].plot(time, X_no[index][3],color = 'black', label = f\"X = {init_state_array[3]}\")\n\n        axs1[i].set(xlabel=\"Time\")\n        axs1[i].set(ylabel=states[index])\n        index += 1\n    axs1[0].legend(bbox_to_anchor=(1.1, 1.3), loc='upper right')\n    plt.show()",
   "execution_count": null,
   "outputs": []
  },
  {
   "cell_type": "code",
   "metadata": {
    "tags": [],
    "deepnote_to_be_reexecuted": false,
    "source_hash": "59711250",
    "execution_start": 1623128087107,
    "execution_millis": 6703,
    "cell_id": "00006-0310a8e0-1111-4cb8-8c30-e2d4367ac8ae",
    "output_cleared": true,
    "deepnote_cell_type": "code"
   },
   "source": "\nplot_evolution_policy(30,[2,3,78,11])\nplot_evolution_policy(30,[65.89589719,  8.3084518 ,  1.09210506, 17.29356596])\nplot_evolution_policy(30,[64.55803217, 8.25290263,1.10774183, 16.46884571])\n#[2,3,78,11]\n#[24.1498626  18.42980936  1.10772824 26.2491273 ]",
   "execution_count": null,
   "outputs": []
  },
  {
   "cell_type": "code",
   "metadata": {
    "tags": [],
    "cell_id": "00007-37d47a7c-f6f6-4607-881c-8a492e967f33",
    "deepnote_cell_type": "code"
   },
   "source": "",
   "execution_count": null,
   "outputs": []
  },
  {
   "cell_type": "markdown",
   "source": "<a style='text-decoration:none;line-height:16px;display:flex;color:#5B5B62;padding:10px;justify-content:end;' href='https://deepnote.com?utm_source=created-in-deepnote-cell&projectId=180073fb-9c10-447b-b721-e7b1d25fe36a' target=\"_blank\">\n<img alt='Created in deepnote.com' style='display:inline;max-height:16px;margin:0px;margin-right:7.5px;' src='data:image/svg+xml;base64,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' > </img>\nCreated in <span style='font-weight:600;margin-left:4px;'>Deepnote</span></a>",
   "metadata": {
    "tags": [],
    "created_in_deepnote_cell": true,
    "deepnote_cell_type": "markdown"
   }
  }
 ],
 "nbformat": 4,
 "nbformat_minor": 2,
 "metadata": {
  "orig_nbformat": 2,
  "deepnote": {
   "is_reactive": false
  },
  "deepnote_notebook_id": "d3dea5e6-4a69-4450-8470-115ac3d934e3",
  "deepnote_execution_queue": []
 }
}