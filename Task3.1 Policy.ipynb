{
 "cells": [
  {
   "cell_type": "code",
   "metadata": {
    "tags": [],
    "cell_id": "00000-0675d9cb-207a-48a0-935b-4e1fd1bdc0ee",
    "deepnote_to_be_reexecuted": false,
    "source_hash": "3f897937",
    "execution_start": 1622624585507,
    "execution_millis": 1566,
    "deepnote_cell_type": "code"
   },
   "source": "\nimport sobol_seq\nfrom scipy.optimize import minimize\nfrom sklearn.model_selection import ParameterGrid\nfrom scipy import interpolate\nfrom CartPole import *\nimport numpy as np\nimport random\nimport matplotlib.pyplot as plt",
   "execution_count": null,
   "outputs": []
  },
  {
   "cell_type": "markdown",
   "source": "# Task 3.1 Linear Policy, Linear Model",
   "metadata": {
    "tags": [],
    "cell_id": "00001-ab3c42ca-0d44-4034-a0ce-117427bc8029",
    "deepnote_cell_type": "text-cell-h1"
   }
  },
  {
   "cell_type": "code",
   "metadata": {
    "tags": [],
    "cell_id": "00001-00ab8f61-84dc-4ddc-9841-0ff06effd0a7",
    "deepnote_to_be_reexecuted": false,
    "source_hash": "e9141daa",
    "execution_start": 1622624587186,
    "execution_millis": 3,
    "deepnote_cell_type": "code"
   },
   "source": "change_CartPole = CartPole()\ndef plot_evolution_policy(n,p):\n    initial_state_arr = np.array([[0, 0, -0.3, 0],[0, 0, 0.2, 0], [0, 0, 0.1, 0], [0, 0, -0.4, 0]])\n    x_0 = np.zeros(shape=(4,n))\n    x_1 = np.zeros(shape=(4,n))\n    x_2 = np.zeros(shape=(4,n))\n    x_3 = np.zeros(shape=(4,n))\n    x0 = np.zeros([4,n])\n    x1 = np.zeros([4,n])\n    x2 = np.zeros([4,n])\n    x3 = np.zeros([4,n])\n    x4 = np.zeros([4,n])\n\n    ind = 0\n    for initial_state in initial_state_arr:\n        change_CartPole.setState(initial_state)\n        l = 0\n        for i in range(n):\n            cur_state = change_CartPole.getState()\n            x0[ind][i], x1[ind][i], x2[ind][i], x3[ind][i] = cur_state[0], cur_state[1], cur_state[2], cur_state[3]\n            l += change_CartPole.loss()\n            f = np.dot(p, change_CartPole.getState())\n            x4[ind][i] = f\n            change_CartPole.performAction(f)\n            change_CartPole.remap_angle()\n        ind += 1\n    X = np.array([x0, x1, x2, x3, x4])\n    index = 0\n    for initial_state in initial_state_arr:\n        change_CartPole.setState(initial_state)\n        l=0\n        for i in range(n):\n            nois = 0.05*np.random.normal(0,1,(4,))\n            current_state = change_CartPole.getState()+nois\n            x_0[index][i] = current_state[0]\n            x_1[index][i] = current_state[1]\n            x_2[index][i] = current_state[2]\n            x_3[index][i] = current_state[3]\n            l+= change_CartPole.loss()\n            f= np.dot(p,change_CartPole.getState())\n            change_CartPole.performAction(f)\n            change_CartPole.remap_angle()\n        index +=1\n    x = np.array([x_0,x_1,x_2,x_3])\n    fig,axs = plt.subplots(2,2, figsize=(12,6))\n    t = np.arange(0,0.2*n,0.2)\n    indx = 0\n    indxx = 0\n    labels=['Cart Location','Cart Velocity','Pole Angle', 'Pole Velocity']\n    for i in range(2):\n        for j in range(2):\n            axs[i][j].plot(t,x[indx][0],color='magenta', label = 'Observation Noise')\n            axs[i][j].plot(t,X[indx][0],color='black' ,label ='real')\n            axs[i][j].set(xlabel='time')\n            axs[i][j].set(ylabel=labels[indxx])\n            indx+=1\n            indxx+=1  \n    plt.show()\n\n    fig,axs = plt.subplots(2,2, figsize=(12,6))\n    fig.suptitle('Linear Policy, Initial position [0,0,0.2,0]')\n    indx = 0\n    indxx = 0\n    for i in range(2):\n        for j in range(2):\n            axs[i][j].plot(t,x[indx][1],color='magenta', label = 'Observation Noise')\n            axs[i][j].plot(t,X[indx][1],color='black' , label = 'Real')\n            axs[i][j].set(xlabel='time')\n            axs[i][j].set(ylabel=labels[indxx])\n            axs[i][j].set_ylim([-2,2])\n            axs[i][j].legend()\n            indx+=1\n            indxx+=1  \n    plt.show()\n\n    fig,axs = plt.subplots(2,2, figsize=(12,6))\n    indx = 0\n    indxx = 0\n    for i in range(2):\n        for j in range(2):\n            axs[i][j].plot(t,x[indx][2],color='magenta', label = 'Observation Noise')\n            axs[i][j].plot(t,X[indx][2],color='black', label = 'Real' )\n            axs[i][j].set(xlabel='time')\n            axs[i][j].set(ylabel=labels[indxx])\n            indx+=1\n            indxx+=1  \n    plt.show()\n\n    fig,axs = plt.subplots(2,2, figsize=(12,6))\n    indx = 0\n    indxx = 0\n    for i in range(2):\n        for j in range(2):\n            axs[i][j].plot(t,x[indx][3],color='magenta', label = 'Observation Noise')\n            axs[i][j].plot(t,X[indx][3],color='blue' , label = 'Real')\n            axs[i][j].set(xlabel='time')\n            axs[i][j].set(ylabel=labels[indxx])\n            indx+=1\n            indxx+=1  \n    plt.show()",
   "execution_count": null,
   "outputs": []
  },
  {
   "cell_type": "markdown",
   "source": "### Optimizing parameter",
   "metadata": {
    "tags": [],
    "cell_id": "00003-28b12fae-f543-4086-9620-d8f690c2a715",
    "deepnote_cell_type": "text-cell-h3"
   }
  },
  {
   "cell_type": "code",
   "metadata": {
    "tags": [],
    "cell_id": "00003-e8e53f88-1ca0-47ad-bada-31a6955de7a7",
    "deepnote_to_be_reexecuted": false,
    "source_hash": "403cf08c",
    "execution_start": 1622624588516,
    "execution_millis": 2,
    "deepnote_cell_type": "code"
   },
   "source": "def plot_evolution_policy_min(p):\n    n =35\n    initial_state_arr = np.array([[0, 0, -0.3, 0],[0, 0, 0.2, 0], [0, 0, 0.1, 0], [0, 0, -0.4, 0]])\n    x_0 = np.zeros(shape=(4,n))\n    x_1 = np.zeros(shape=(4,n))\n    x_2 = np.zeros(shape=(4,n))\n    x_3 = np.zeros(shape=(4,n))\n    x0 = np.zeros([4,n])\n    x1 = np.zeros([4,n])\n    x2 = np.zeros([4,n])\n    x3 = np.zeros([4,n])\n    x4 = np.zeros([4,n])\n    index = 0\n    for initial_state in initial_state_arr:\n        change_CartPole.setState(initial_state)\n        l=0\n        for i in range(n):\n            nois = 0.05*np.random.normal(0,1,(4,))\n            current_state = change_CartPole.getState()+nois\n            x_0[index][i] = current_state[0]\n            x_1[index][i] = current_state[1]\n            x_2[index][i] = current_state[2]\n            x_3[index][i] = current_state[3]\n            l+= change_CartPole.loss()\n            f= np.dot(p,change_CartPole.getState())\n            change_CartPole.performAction(f)\n            change_CartPole.remap_angle()\n        index +=1\n    return(l)",
   "execution_count": null,
   "outputs": []
  },
  {
   "cell_type": "code",
   "metadata": {
    "tags": [],
    "cell_id": "00004-7c8d77c1-c875-4234-96ed-cb4ca5f87b0c",
    "deepnote_to_be_reexecuted": false,
    "source_hash": "304c07e3",
    "execution_start": 1622624589411,
    "execution_millis": 42379,
    "deepnote_cell_type": "code"
   },
   "source": "x0 =[0.7051,1.21512,16.311,2.506]\nres = minimize(plot_evolution_policy_min, x0, method='Nelder-Mead', tol=1e-3, options = {'maxiter' : 2000, 'disp':True})",
   "execution_count": null,
   "outputs": [
    {
     "name": "stdout",
     "text": "Optimization terminated successfully.\n         Current function value: 3.298347\n         Iterations: 208\n         Function evaluations: 354\n",
     "output_type": "stream"
    }
   ]
  },
  {
   "cell_type": "code",
   "metadata": {
    "tags": [],
    "cell_id": "00006-fc5337ea-ee4c-4b52-bd0e-f3048f37b37c",
    "deepnote_cell_type": "code"
   },
   "source": "",
   "execution_count": null,
   "outputs": []
  },
  {
   "cell_type": "markdown",
   "source": "<a style='text-decoration:none;line-height:16px;display:flex;color:#5B5B62;padding:10px;justify-content:end;' href='https://deepnote.com?utm_source=created-in-deepnote-cell&projectId=180073fb-9c10-447b-b721-e7b1d25fe36a' target=\"_blank\">\n<img alt='Created in deepnote.com' style='display:inline;max-height:16px;margin:0px;margin-right:7.5px;' src='data:image/svg+xml;base64,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' > </img>\nCreated in <span style='font-weight:600;margin-left:4px;'>Deepnote</span></a>",
   "metadata": {
    "tags": [],
    "created_in_deepnote_cell": true,
    "deepnote_cell_type": "markdown"
   }
  }
 ],
 "nbformat": 4,
 "nbformat_minor": 2,
 "metadata": {
  "orig_nbformat": 2,
  "deepnote": {
   "is_reactive": false
  },
  "deepnote_notebook_id": "720d7bfe-fa1b-4db3-b725-25d9777fa7f4",
  "deepnote_execution_queue": []
 }
}