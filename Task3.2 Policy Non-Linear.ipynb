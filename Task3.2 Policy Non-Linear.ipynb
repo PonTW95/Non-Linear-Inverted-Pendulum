{
 "cells": [
  {
   "cell_type": "code",
   "metadata": {
    "tags": [],
    "deepnote_to_be_reexecuted": false,
    "source_hash": "728ae124",
    "execution_start": 1623326717570,
    "execution_millis": 3471,
    "cell_id": "00000-1be57579-7f66-4fcc-a0a7-fcddf9311f92",
    "deepnote_cell_type": "code"
   },
   "source": "import random\nimport numpy as np\nimport matplotlib.pyplot as plt\nimport sobol_seq\nfrom scipy.optimize import minimize,Bounds\nfrom CartPole import CartPole",
   "outputs": [],
   "execution_count": null
  },
  {
   "cell_type": "markdown",
   "source": "# Task 3.2, Non-Linear Model Linear Policy",
   "metadata": {
    "tags": [],
    "cell_id": "00001-0284680f-dda8-453c-8e7a-ad253eebbb6e",
    "deepnote_cell_type": "text-cell-h1"
   }
  },
  {
   "cell_type": "code",
   "metadata": {
    "tags": [],
    "deepnote_to_be_reexecuted": false,
    "source_hash": "bef09dbc",
    "execution_start": 1623326721044,
    "execution_millis": 19085,
    "cell_id": "00002-59c6758e-e266-4b1e-aac3-dcd9434531c8",
    "deepnote_cell_type": "code"
   },
   "source": "def K_mat(dataA,dataB,sig_invert):\n    A = np.shape(dataA)[0]\n    B = np.shape(dataB)[0]\n    K = np.zeros(shape=(A,B))\n    for i in range(A):\n        for j in range(B):\n            K[i][j] =kernel_gauss(dataA[i],dataB[j],sig_invert)\n    return K\n\ndef kernel_func(x0,x1,sig):\n    delta_x = x0-x1\n    delta_x_2 = np.zeros([4,1])\n    for i in range(4):\n        delta_x_2[i]=(delta_x[i])**2\n    delta_x_2[2]=np.sin(0.5*(delta_x[2]))**2\n    expo = (-0.5)*float(np.dot(sig, delta_x_2))\n    kernel = np.e**expo\n    return kernel\n#range of input for creating data\ndef r_range(i, minimum,maximum):\n    d = i*(maximum-minimum)\n    output = np.full(np.shape(i),minimum)+d\n    return output\n#generate datapoints using sobol_seq\ndef generate_x(n):\n    x_data = sobol_seq.i4_sobol_generate(4,n)\n    d_0=r_range(x_data[:,0],-50,50)\n    d_1=r_range(x_data[:,1],-10,10)\n    d_2=r_range(x_data[:,2],-(np.pi),np.pi)\n    d_3=r_range(x_data[:,3],-15,15)\n    output = np.column_stack((d_0,d_1,d_2,d_3))\n    return output\n\n\nCartpoleState = CartPole()\nN =500\nM = 200\none_over_sigma =[2.6366e-16,1.62674e-06, 2.63, 1.3831e-02, 2.4694e-04]\nX = generate_x(N)\nX_M = generate_x(M)\nlmd = 1e-6\n\nY = np.zeros(shape=(N,4))\nfor i in range(N):\n    noise = 0.05 * np.random.normal(0, 1, (4,))\n    CartpoleState.setState(X[i,:4]+noise)\n    CartpoleState.performAction(X[i,-1])\n    Y[i] = CartpoleState.getState() - (X[i,:4] + noise)\n\nKNN = K_mat(X,X, one_over_sigma)\nKMN = K_mat(X_M, X, one_over_sigma)\nKNM = K_mat(X, X_M, one_over_sigma)\nKMM = K_mat(X_M, X_M, one_over_sigma)\nc = KMN @ KNM + lmd * KMM\nd = np.zeros(shape=(4,M))\nalphas = np.zeros(shape=(4,M))\nfor i in range(4):\n    c[i] = KMN @ Y[:,i]\n    alphas[i] = np.linalg.lstsq(c,d[i], rcond=-1)[0]\n\n\n\ndef model_pred_control(p):\n    CartpoleState.setState([0, 0, 0.2, 0])\n    pred = np.zeros([15,15])\n    l = 0\n    \n    for i in range(15):\n        noise = 0.05 * np.random.normal(0, 1, (4,))\n        l += CartpoleState.loss()\n        f = np.dot(p, CartpoleState.getState())\n        pred[i, :4] = CartpoleState.getState()\n        pred[i, -1] = f\n        K1m_pred = np.array([kernel_func(pred[i], s,one_over_sigma) for s in X_M])\n        c = K1m_pred @ alphas.transpose()\n        new_pred = c + pred[i,:4] + noise\n        CartpoleState.setState(new_pred)\n        CartpoleState.remap_angle()\n    return l\n",
   "outputs": [],
   "execution_count": null
  },
  {
   "cell_type": "code",
   "metadata": {
    "tags": [],
    "deepnote_to_be_reexecuted": false,
    "source_hash": "e414f55b",
    "execution_start": 1623327268959,
    "execution_millis": 56,
    "cell_id": "00005-2ab655bb-f16e-4d59-b0df-ad84da6b43a8",
    "deepnote_cell_type": "code"
   },
   "source": "\ndef plot_evolution_policy(n, p):\n    init_state_array = np.array([[0, 0, 0.2, 0],[0, 0, 0.2, 0], [0, 0, 0.1, 0], [0, 0, 0.15, 0.1]])\n\n    x0 = np.zeros([4,n])\n    x1 = np.zeros([4,n])\n    x2 = np.zeros([4,n])\n    x3 = np.zeros([4,n])\n    x4 = np.zeros([4,n])\n\n    x_0 = np.zeros([4,n])\n    x_1 = np.zeros([4,n])\n    x_2 = np.zeros([4,n])\n    x_3 = np.zeros([4,n])\n    x_4 = np.zeros([4,n])\n\n    ind = 0\n    for init in init_state_array:\n        CartpoleState.setState(init)\n        l = 0\n        for i in range(n):\n            noise = 0.05 * np.random.normal(0, 1, (4,))\n            cur_state = CartpoleState.getState()\n            x0[ind][i], x1[ind][i], x2[ind][i], x3[ind][i] = cur_state[0], cur_state[1], cur_state[2], cur_state[3]\n            l += CartpoleState.loss()\n            f = np.dot(p, CartpoleState.getState())\n            x4[ind][i] = f\n            K1m_pred = np.array([kernel_gauss(np.array([x0[ind][i], x1[ind][i], x2[ind][i], x3[ind][i],x4[ind][i]]), sset, one_over_sigma) for sset in Xs])\n            delta_change = K1m_pred @ alphas.transpose()\n            new_pred = delta_change + cur_state +noise\n            CartpoleState.setState(new_pred)\n            CartpoleState.remap_angle()\n            # TrainingCartPole.remap_angle()\n        ind += 1\n    X_noise = np.array([x0, x1, x2, x3, x4])\n\n    indx = 0 \n    for init in init_state_array:\n        CartpoleState.setState(init)\n        l = 0\n        for i in range(n):\n            cur_state = CartpoleState.getState()\n            x_0[indx][i], x_1[indx][i], x_2[indx][i], x_3[indx][i] = cur_state[0], cur_state[1], cur_state[2], cur_state[3]\n            l += CartpoleState.loss()\n            f = np.dot(p, CartpoleState.getState())\n            x_4[indx][i] = f\n            K1m_pred2 = np.array([kernel_gauss(np.array([x_0[indx][i], x_1[indx][i], x_2[indx][i], x_3[indx][i],x_4[indx][i]]), sset, one_over_sigma) for sset in Xs])\n            delta_change2 = K1m_pred2 @ alphas.transpose()\n            new_pred = delta_change2 + cur_state\n            CartpoleState.setState(new_pred)\n            CartpoleState.remap_angle()\n        indx +=1\n    X = np.array([x_0, x_1, x_2, x_3, x_4])\n\n\n    fig1, axs1 = plt.subplots(4,figsize=(10,5))\n    fig1.suptitle('Time Evolution of Variables with Noise in Actual Dynamics')\n\n    time = np.arange(0, 0.2*n, 0.2)\n    states = [\"location\", \"velocity\", \"pole angle\", \"pole velocity\"]\n\n    index = 0\n    for i in range(4):\n        #axs1[i].plot(time, X_noise[index][0],'--', color='royalblue',label = 'Noise [0, 0, 0.2, 0]')\n        axs1[i].plot(time, X_noise[index][1],'--',color = 'royalblue', label = 'Noise [0, 0, 0.2, 0]')\n        axs1[i].plot(time, X_noise[index][2],'--', color='black' ,label = 'Noise  [0, 0, 0.1, 0]')\n        #axs1[i].plot(time, X_noise[index][3],'--',color = 'black', label = f\"X = {init_state_array[3]}\")\n\n        #axs1[i].plot(time, X[index][0], color='royalblue',label = '[0, 0, 0.2, 0]')\n        axs1[i].plot(time, X[index][1],color = 'royalblue', label = '[0, 0, 0.2, 0')\n        axs1[i].plot(time, X[index][2], color='black' ,label = '[0, 0, 0.1, 0]')\n        #axs1[i].plot(time, X[index][3],color = 'black', label = f\"X = {init_state_array[3]}\")\n\n        axs1[i].set(xlabel=\"Time\")\n        axs1[i].set(ylabel=states[index])\n        index += 1\n    axs1[0].legend(bbox_to_anchor=(1.1, 1.3), loc='upper right')\n    plt.show()",
   "outputs": [],
   "execution_count": null
  },
  {
   "cell_type": "code",
   "metadata": {
    "tags": [],
    "deepnote_to_be_reexecuted": false,
    "source_hash": "ca230554",
    "execution_start": 1623327510101,
    "execution_millis": 9469,
    "cell_id": "00006-bbef4d8a-8677-428b-93bc-ee9acb9eec11",
    "output_cleared": true,
    "deepnote_cell_type": "code"
   },
   "source": "\nplot_evolution_policy(30,[2,3,78.1,11.1])\nplot_evolution_policy(30,[64.81 , 8.21 ,  1.19 ,17.2])\nplot_evolution_policy(30,[23.785527, 19.0731,  1.095621 ,26.9653])\n#[2,3,78,11]\n#[24.1498626  18.42980936  1.10772824 26.2491273 ]",
   "execution_count": null,
   "outputs": []
  },
  {
   "cell_type": "code",
   "metadata": {
    "tags": [],
    "cell_id": "00007-1ccf5821-71f0-4a19-8618-b7c7aed2f6e1",
    "deepnote_cell_type": "code"
   },
   "source": "",
   "execution_count": null,
   "outputs": []
  },
  {
   "cell_type": "markdown",
   "source": "<a style='text-decoration:none;line-height:16px;display:flex;color:#5B5B62;padding:10px;justify-content:end;' href='https://deepnote.com?utm_source=created-in-deepnote-cell&projectId=180073fb-9c10-447b-b721-e7b1d25fe36a' target=\"_blank\">\n<img alt='Created in deepnote.com' style='display:inline;max-height:16px;margin:0px;margin-right:7.5px;' src='data:image/svg+xml;base64,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' > </img>\nCreated in <span style='font-weight:600;margin-left:4px;'>Deepnote</span></a>",
   "metadata": {
    "tags": [],
    "created_in_deepnote_cell": true,
    "deepnote_cell_type": "markdown"
   }
  }
 ],
 "nbformat": 4,
 "nbformat_minor": 2,
 "metadata": {
  "orig_nbformat": 2,
  "deepnote": {
   "is_reactive": false
  },
  "deepnote_notebook_id": "debd1d11-c489-455e-a963-d5c6d7e76cdf",
  "deepnote_execution_queue": []
 }
}