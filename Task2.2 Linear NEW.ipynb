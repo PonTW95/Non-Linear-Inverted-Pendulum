{
 "cells": [
  {
   "cell_type": "code",
   "metadata": {
    "tags": [],
    "cell_id": "00000-77b18174-6594-41bb-896e-2ce9aea40a44",
    "deepnote_to_be_reexecuted": false,
    "source_hash": "97c2fa76",
    "execution_start": 1623230486590,
    "execution_millis": 2554,
    "deepnote_cell_type": "code"
   },
   "source": "import numpy as np\nimport random as rd\nimport autograd.numpy as np\nfrom matplotlib.pyplot import ion, draw, Rectangle, Line2D\nimport matplotlib.pyplot as plt\nfrom CartPole import *\nfrom sklearn import linear_model\nfrom scipy import interpolate",
   "execution_count": null,
   "outputs": []
  },
  {
   "cell_type": "markdown",
   "source": "# Task 2.2",
   "metadata": {
    "tags": [],
    "cell_id": "00001-988b4758-fb9d-460e-b344-63b6cadf12a7",
    "deepnote_cell_type": "text-cell-h1"
   }
  },
  {
   "cell_type": "markdown",
   "source": "### Linear Model",
   "metadata": {
    "tags": [],
    "cell_id": "00002-e7e4a21d-85bb-449d-86be-efbd1de88b4c",
    "deepnote_cell_type": "text-cell-h3"
   }
  },
  {
   "cell_type": "code",
   "metadata": {
    "tags": [],
    "cell_id": "00001-e69ca54f-4542-4b64-b1f8-47645349b9a1",
    "deepnote_to_be_reexecuted": false,
    "source_hash": "19c09680",
    "execution_start": 1623230489911,
    "execution_millis": 7,
    "deepnote_cell_type": "code"
   },
   "source": "def linear_regression(x, y):\n    C = np.zeros([4,4])\n    C = np.linalg.lstsq(x,y)\n    return C\n\n# replacing model.predict(x_test) \ndef predict_Y(C, X):\n    y_predict = np.matmul(C,np.transpose(X))",
   "execution_count": null,
   "outputs": []
  },
  {
   "cell_type": "code",
   "metadata": {
    "tags": [],
    "cell_id": "00002-f9ec6728-5e53-4fd1-b4ed-a1e4ca1b8616",
    "deepnote_to_be_reexecuted": false,
    "source_hash": "91448453",
    "execution_start": 1623231989885,
    "execution_millis": 327,
    "output_cleared": true,
    "deepnote_cell_type": "code"
   },
   "source": "x = CartPole()\nm = 500\nlabels = ['Cart location', 'Cart Velocity', 'Pole Angle', 'Pole Velocity']\ninitial_state,step_state = np.zeros([m,4]),np.zeros([m,4])\nfor i in range(m):\n    x.setState([1,1,np.random.uniform(-np.pi,np.pi),1])\n    initial_state[i] = x.getState()\n    x.performAction(10)\n    step_state[i] = x.getState()\n    x.reset()\nchange_in_state = step_state - initial_state\nprint(step_state)",
   "execution_count": null,
   "outputs": []
  },
  {
   "cell_type": "code",
   "source": "def Linear_Reg(x,y):\n    C = linear_regression(x,y)\n    m=500\n    y_pred = np.zeros([m,4])\n    for i in range(n):\n        y_pred[i] = C @ intial_state[i]\n    labels = ['Cart location', 'Cart Velocity', 'Pole Angle', 'Pole Velocity']\n    xx= y - x\n    y_change = y_pred - x\n    for j in range(4):\n        for i in range(4):\n            #plt.scatter(xx[:,[i]],yy[:,[j]],label= 'Actual ' ,color='red',s=20)\n            plt.scatter(x_test[:,i],y_test[:,j],label= 'Actual ' ,color='red',s=20)\n            plt.scatter(x_test[:,j],y_test[:,j],label = 'Predicted ',color='blue', s= 12)\n            #plt.scatter(y_test[:,[j]],y_pred[:,[j]],label = 'Predicted ',color='blue', s= 12)\n            plt.legend()\n            plt.xlabel('Input '+labels[i])\n            plt.ylabel('Prediction  '+labels[j])\n            plt.title('Prediction vs Input '+labels[i])\n            plt.show()",
   "metadata": {
    "tags": [],
    "cell_id": "00005-03f98c5c-9c81-4eed-9dee-8c9ed75ef300",
    "deepnote_cell_type": "code"
   },
   "outputs": [],
   "execution_count": null
  },
  {
   "cell_type": "markdown",
   "source": "### Time Evolution",
   "metadata": {
    "tags": [],
    "cell_id": "00006-e51ce1a3-2d59-46b6-bdb1-d22946bbfd64",
    "deepnote_cell_type": "text-cell-h3"
   }
  },
  {
   "cell_type": "code",
   "metadata": {
    "tags": [],
    "cell_id": "00006-9817ee42-6563-430c-82ab-a9be327a2d8a",
    "deepnote_to_be_reexecuted": false,
    "source_hash": "313e5d88",
    "execution_start": 1622985601978,
    "execution_millis": 79,
    "deepnote_cell_type": "code"
   },
   "source": "x = CartPole()\nm = 500\nlabels = ['Cart location', 'Cart Velocity', 'Pole Angle', 'Pole Velocity']\nini_state,next_state = np.zeros([m,4]),np.zeros([m,4])\n#Initial State\nx.setState([0,3,np.pi,3])\n#Input Force\nx.performAction(10)\nini_state[0,:] = [0,3,np.pi,3]\nnext_state[0,:] = x.getState()\nfor i in range(m-1):\n    ini_state[i] = x.getState()\n    x.performAction()\n    x.remap_angle()\n    next_state[i] = x.getState()\nchange_in_state = next_state - ini_state",
   "execution_count": null,
   "outputs": []
  },
  {
   "cell_type": "code",
   "metadata": {
    "tags": [],
    "cell_id": "00008-aa8a80c3-9582-42c8-963e-37cd8df57ab7",
    "deepnote_to_be_reexecuted": false,
    "source_hash": "391227d9",
    "execution_start": 1622985960693,
    "execution_millis": 658,
    "output_cleared": true,
    "deepnote_cell_type": "code"
   },
   "source": "C = linear_regression(ini_state, change_in_state)\ny_pred = np.zeros([m,4])\n#Predict Next state\nfor i in range(m):\n    pred_state_c = C @ ini_state[i]\n    y_pred = pred_state_c + ini_state[i]\nt=np.arange(0,0.2*250,0.2)\n#Plot\nfor i in range(4):\n    #Smooth Curve with interpolate\n    x_new = np.linspace(0,50,10000)\n    sp = interpolate.make_interp_spline(t, next_state[250:,i])\n    y_new_1 = sp(x_new)\n    sp2= interpolate.make_interp_spline(t, y_pred[:,i])\n    y_pred_1 = sp2(x_new)\n    plt.plot(x_new,y_new_1,label= 'Actual ' ,color='red')\n    plt.plot(x_new,y_pred_1,label = 'Predicted ',color='blue')\n    plt.legend()\n    plt.xlim(0,10)\n    plt.ylim(0,10)\n    plt.xlabel('time(s)')\n    plt.ylabel(labels[i])\n    plt.title('Time evolution of '+labels[i])\n    plt.show()",
   "execution_count": null,
   "outputs": []
  },
  {
   "cell_type": "markdown",
   "source": "# Task 2.2, Non-Linear",
   "metadata": {
    "tags": [],
    "cell_id": "00009-3cb2df0b-3a38-45be-82a4-db2a3e994603",
    "deepnote_cell_type": "text-cell-h1"
   }
  },
  {
   "cell_type": "code",
   "source": "#kernel function to evaluate the state varaibles\ndef kernel_func(x0,x1,sig):\n    delta_x = x0-x1\n    delta_x_2 = np.zeros([4,1])\n    for i in range(4):\n        delta_x_2[i]=(delta_x[i])**2\n    delta_x_2[2]=np.sin(0.5*(delta_x[2]))**2\n    expo = (-0.5)*float(np.dot(sig, delta_x_2))\n    kernel = np.e**expo\n    return kernel\n#range of input for creating data\ndef r_range(i, minimum,maximum):\n    d = i*(maximum-minimum)\n    output = np.full(np.shape(i),minimum)+d\n    return output\n#generate datapoints using sobol_seq\ndef generate_x(n):\n    x_data = sobol_seq.i4_sobol_generate(4,n)\n    d_0=r_range(x_data[:,0],-50,50)\n    d_1=r_range(x_data[:,1],-10,10)\n    d_2=r_range(x_data[:,2],-(np.pi),np.pi)\n    d_3=r_range(x_data[:,3],-15,15)\n    output = np.column_stack((d_0,d_1,d_2,d_3))\n    return output\ndef K_matrix(a,b,sig_invert):\n    A = np.shape(a)[0]\n    B = np.shape(b)[0]\n    K = np.zeros(shape=(A,B))\n    for i in range(A):\n        for j in range(B):\n            K[i][j] =kernel_func(a[i],b[j],sig_invert)\n    return K\n\nn=500\nX = generate_x(n)",
   "metadata": {
    "tags": [],
    "cell_id": "00009-f850fb46-041b-4b17-9529-4832c9ae618f",
    "deepnote_cell_type": "code"
   },
   "outputs": [],
   "execution_count": null
  },
  {
   "cell_type": "code",
   "source": "#Change in state \nchange_s=CartPole()\nY_change_State = np.zeros([n,4])\nfor i in range(n):\n    change_s.setState(X[i,:4])\n    change_s.performAction()\n    Y_change_State[i]=change_s.getState()-X[i,:4]\n#Now generate subset M\nM=320\nX_M = generate_x(M)\nlamd = 1e-3\n#length scale parameters for each state variable\none_over_sigma = [3.08e-10, 2.000e-05, 2.7e+00, 6.5e-02,7.1e-4]\ninvert_sig = [1/np.sqrt(i) for i in one_over_sigma]\nprint(invert_sig)\n#generate K matrix for datapoints\ntest_data = np.zeros([n,4])\ninit_s = np.zeros([n,4])\ntest_y_data = np.zeros([n,4])\nfor i in range(n):\n    init_s[i] = [np.random.uniform(-50,50),np.random.uniform(-10,10),np.random.uniform(-(np.pi),np.pi),np.random.uniform(-15,15)]\n    change_s.setState(init_s[i])\n    change_s.performAction()\n    test_y_data[i]=change_s.getState()-init_s[i]\nY_test_data = test_y_data",
   "metadata": {
    "tags": [],
    "cell_id": "00009-f71f6fec-431d-4c9b-8a7d-19ab77c39511",
    "deepnote_cell_type": "code"
   },
   "outputs": [],
   "execution_count": null
  },
  {
   "cell_type": "code",
   "source": "KNN=K_matrix(X,X,one_over_sigma)\nKMN=K_matrix(X_M,X,one_over_sigma)\nKNM=K_matrix(X,X_M,one_over_sigma)\nKMM=K_matrix(X_M,X_M,one_over_sigma)\n#alpha = (KMN@KNM + lamda*KMM)^-1(KMN@Y)\n#alpha = (c)^-1*(d)\nc = KMN @ KNM +lamd*KMM\nd = np.zeros([4,M])\nmatrix_alphas = np.zeros([4,M])\nfor i in range(4):\n    d[i] = KMN @ Y_change_State[:,i]\n    matrix_alphas[i]=np.linalg.lstsq(c,d[i],rcond=-1)[0]\nKNM_test = K_matrix(test_data,X_M,one_over_sigma)\nY_pred=KNM_test @ matrix_alphas.transpose()\ny_diff = Y_pred-Y_test_data\ncc=np.sum(y_diff**2)\ny_train_pred = KNM @ matrix_alphas.transpose()\ny_train_diff = Y_change_State - y_train_pred\nc0 = np.sum(y_train_diff**2)\nprint(cc)\nprint(c0)\nlabels_real = ['Real Change in Cart Location', 'Real Change in Cart Velocity', 'Real change in Pole Angle', 'Real Change in Pole Angular Velocity']\nlabels_pred = ['Predicted Change in Cart Location','Predicted Change in Cart Velocity','Predicted Change in Pole Angle', 'Predicted Change in Pole Angular Velocity']\n\ndef real_pred_one_step(n):\n    pred_states = np.zeros([n,5])\n    next_states = np.zeros([n,4])\n    start_states=np.zeros([n,5])\n    new_pred=np.zeros([n,4])\n    for i in range(n):\n        initial_state = [np.random.uniform(-50,50),np.random.uniform(-10,10),np.random.uniform(-(np.pi),np.pi),np.random.uniform(-15,15),np.random.uniform(-20,20)]\n        start_states[i]=initial_state\n        change_s.setState(start_states[i,:4])\n        change_s.performAction(start_states[i,-1])\n        next_states[i]=change_s.getState()\n        change_s.remap_angle()\n    change_s.setState(initial_state)\n    for i in range(n):\n        pred_states[i] = start_states[i]\n        K1M = np.array([kernel_func(pred_states[i],ss, one_over_sigma) for ss in X_M])\n        delta_c = K1M @ matrix_alphas.transpose()\n        new_pred[i] = delta_c + pred_states[i,:4]        \n    return(next_states, pred_states)\n\ndef plot_time_evolution(Y_real, Y_pred, n):\n    \n    cond = f\"cart location: {round(Y_real[0][0],2)}, cart velocity: {round(Y_real[0][1],2)}, pole angle: {round(Y_real[0][2],2)}, pole angular velocity: {round(Y_real[0][3],2)}\"\n    fig1, axs1 = plt.subplots(4)\n    fig1.suptitle(f'Real and predicted state variation with time\\n {cond}')\n    time = np.arange(0, 0.2*n, 0.2)\n    states = [\"location\", \"velocity\", \"pole angle\", \"pole velocity\"]\n    index = 0\n    for i in range(4):\n        labels =['Cart Location', 'Cart Velocity', 'Pole Angle', 'Pole Velocity']\n        x_new = np.linspace(0,100,10000)\n        sp = interpolate.make_interp_spline(time, Y_real[:,i])\n        y_new_1 = sp(x_new)\n        sp2= interpolate.make_interp_spline(time, Y_pred[:,i])\n        y_pred_1 = sp2(x_new)\n        axs1[i].plot(x_new, y_new_1, \"black\", label =\"real\")\n        axs1[i].plot(x_new, y_pred_1, label = \"accurate\")\n        axs1[i].set(xlabel=\"Time\")\n        axs1[i].set(ylabel=states[index])\n        axs1[i].set_xlim([0,10])\n        index += 1\n    axs1[0].legend(bbox_to_anchor=(1.0, 1.1), loc='upper right')\n    plt.show()\n\nreal_states, pred_states = real_pred_one_step(100)\nplot_time_evolution(real_states,pred_states,100)\nt = np.arange(0,0.2*100,0.2)\n",
   "metadata": {
    "tags": [],
    "cell_id": "00009-55991442-3bf6-4da3-a144-55555c3e510e",
    "deepnote_cell_type": "code"
   },
   "outputs": [],
   "execution_count": null
  },
  {
   "cell_type": "code",
   "source": "x = CartPole()\nm = 500\nt= np.arange(0,0.2*m,0.2)\nlabels = ['Cart location', 'Cart Velocity', 'Pole Angle', 'Pole Velocity']\nini_state,next_state = np.zeros([m,4]),np.zeros([m,4])\nx.setState([0,3,np.pi,3])\nx.performAction(10)\n\nini_state[0,:] = [0,1,np.pi,1]\nnext_state[0,:] = x.getState()\nfor i in range(m-1):\n    ini_state[i] = x.getState()\n    x.performAction()\n    #x.remap_angle()\n    next_state[i] = x.getState()\n\ny=CartPole()\nm=500\nlabels = ['Cart location', 'Cart Velocity', 'Pole Angle', 'Pole Velocity']\ninitial_state,step_state = np.zeros([m,4]),np.zeros([m,4])\ny.setState([0,3,np.pi,3])\ny.performAction(10)\ninitial_state[0,:] = [0,3,np.pi,3]\nstep_state[0,:] = y.getState()\nt=np.arange(0,m*0.2,0.2)\nfor i in range(m-1):\n    initial_state[i]=y.getState()\n    K1M = np.array([kernel_func(initial_state[i],ss, one_over_sigma) for ss in X_M])\n    delta_c = K1M @ matrix_alphas.transpose()\n    step_state[i] = delta_c + initial_state[i]        \n    y.setState(step_state[i])\n    #y.remap_angle()\n\n\nfor i in range(4):\n    x_new = np.linspace(0,20,10000)\n    sp = interpolate.make_interp_spline(t, ini_state[:,i])\n    y_new_4 = sp(x_new)\n    sp2= interpolate.make_interp_spline(t, initial_state[:,i])\n    y_pred_4 = sp2(x_new)\n\n    plt.plot(x_new,y_new_4, '--', color= 'black', label = 'Actual')\n    plt.plot(x_new,y_pred_4,'--',color='red', label = 'Predicted')\n    plt.xlim(0,5)\n    plt.ylim(-10,10)\n    plt.xlabel('Time (s)')\n    plt.ylabel(labels[i])\n    plt.title('Time evolution of State Variable With Force input')\n    plt.legend(loc='lower right')\n    plt.show()",
   "metadata": {
    "tags": [],
    "cell_id": "00009-bcc8045d-eea9-49c9-973f-29f4b2139d53",
    "deepnote_cell_type": "code"
   },
   "outputs": [],
   "execution_count": null
  },
  {
   "cell_type": "markdown",
   "source": "<a style='text-decoration:none;line-height:16px;display:flex;color:#5B5B62;padding:10px;justify-content:end;' href='https://deepnote.com?utm_source=created-in-deepnote-cell&projectId=180073fb-9c10-447b-b721-e7b1d25fe36a' target=\"_blank\">\n<img alt='Created in deepnote.com' style='display:inline;max-height:16px;margin:0px;margin-right:7.5px;' src='data:image/svg+xml;base64,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' > </img>\nCreated in <span style='font-weight:600;margin-left:4px;'>Deepnote</span></a>",
   "metadata": {
    "tags": [],
    "created_in_deepnote_cell": true,
    "deepnote_cell_type": "markdown"
   }
  }
 ],
 "nbformat": 4,
 "nbformat_minor": 2,
 "metadata": {
  "orig_nbformat": 2,
  "deepnote": {
   "is_reactive": false
  },
  "deepnote_notebook_id": "ff1070fd-a4a0-44d9-a9c4-a31b766e3198",
  "deepnote_execution_queue": []
 }
}