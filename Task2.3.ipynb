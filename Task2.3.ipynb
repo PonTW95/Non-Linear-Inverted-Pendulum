{
 "cells": [
  {
   "cell_type": "code",
   "metadata": {
    "tags": [],
    "cell_id": "00000-1bd2e31e-9391-49b1-859e-34c641be94fb",
    "deepnote_to_be_reexecuted": false,
    "source_hash": "396d5d91",
    "execution_start": 1622444405749,
    "execution_millis": 1086,
    "deepnote_cell_type": "code"
   },
   "source": "import numpy as np\nimport random as rd\nimport autograd.numpy as np\nfrom matplotlib.pyplot import ion, draw, Rectangle, Line2D\nimport matplotlib.pyplot as plt\nfrom CartPole import *\nfrom scipy.optimize import minimize\nimport sobol_seq",
   "execution_count": null,
   "outputs": []
  },
  {
   "cell_type": "markdown",
   "source": "# Task 2.3",
   "metadata": {
    "tags": [],
    "cell_id": "00001-921f54ed-36bc-4743-a0b3-c038568bfbba",
    "deepnote_cell_type": "text-cell-h1"
   }
  },
  {
   "cell_type": "markdown",
   "source": "",
   "metadata": {
    "tags": [],
    "deepnote_cell_type": "text-cell-p"
   }
  },
  {
   "cell_type": "code",
   "metadata": {
    "tags": [],
    "cell_id": "00002-6beb66c4-bbd6-4552-bd34-5d45db80ed8c",
    "deepnote_to_be_reexecuted": false,
    "source_hash": "64ca57",
    "execution_start": 1622444406850,
    "execution_millis": 2,
    "deepnote_cell_type": "code"
   },
   "source": "def model_pred_control(p):\n    real_cart = CartPole()\n    real_cart.setState([0, 0, 0.1, 0])\n    real_state= np.zeros([15,5])\n    l = 0\n    for i in range(15):\n        l += real_cart.loss()\n        f = np.dot(p, real_cart.getState())\n        real_state[i, :4] =real_cart.getState()\n        real_state[i, -1] = f\n        real_cart.performAction(f)\n        real_cart.remap_angle()\n    return l\nl=model_pred_control([2,2,10,3])",
   "execution_count": null,
   "outputs": []
  },
  {
   "cell_type": "code",
   "metadata": {
    "tags": [],
    "cell_id": "00003-99ca98c7-5fb0-4551-9003-267e99ae6c34",
    "deepnote_to_be_reexecuted": false,
    "source_hash": "e42a583a",
    "execution_start": 1622444407804,
    "execution_millis": 11661,
    "output_cleared": true,
    "deepnote_cell_type": "code"
   },
   "source": "#Visualising minimums\nn_s = 500\nl_c = np.zeros([n_s,1])\np_c=np.zeros([n_s,4])\nfor i in range(n_s):\n    pc = [1,np.random.uniform(-50,100),1,1]\n    p_c[i] = pc\n    l_c[i]=model_pred_control(pc)\n\nplt.scatter(p_c[:,1],l_c)\nplt.xlabel('p2')\nplt.ylabel('Loss')\nplt.xlim(-50,20)\nplt.title('Varying p2, concerneed with cart velocity')\nplt.show()\n\nn_s = 500\nl_c0 = np.zeros([n_s,1])\np_c0=np.zeros([n_s,4])\nfor i in range(n_s):\n    pc0 = [np.random.uniform(-1000,1000),1,1,1]\n    p_c0[i] = pc0\n    l_c0[i]=model_pred_control(pc0)\n\n\nplt.scatter(p_c0[:,0],l_c0)\nplt.xlabel('p1')\nplt.ylabel('Loss')\nplt.xlim(-1000,1000)\nplt.title('Varying p1, concerned with cart location')\nplt.show()\n",
   "execution_count": null,
   "outputs": []
  },
  {
   "cell_type": "markdown",
   "source": "### Contour PLots",
   "metadata": {
    "tags": [],
    "cell_id": "00005-d0c9f5ea-724c-4efb-9b50-54398944f9e9",
    "deepnote_cell_type": "text-cell-h3"
   }
  },
  {
   "cell_type": "code",
   "metadata": {
    "tags": [],
    "cell_id": "00005-481d727d-081d-4f73-ab04-43cfbc064767",
    "deepnote_to_be_reexecuted": false,
    "source_hash": "fea5b2cf",
    "execution_start": 1622444454535,
    "execution_millis": 8457,
    "output_cleared": true,
    "deepnote_cell_type": "code"
   },
   "source": "labels = ['p1','p2','p3','p4']\nplt.tricontourf(p_cl[:,1],p_cl[:,2],l_cl[:,0],1000)\nplt.xlabel(labels[1])\nplt.ylabel(labels[2])\nplt.ylim(-200,200)\n#plt.xlim(0,80)\nplt.colorbar()\nplt.title('Loss function, Varying p2,p3')\nplt.show()",
   "execution_count": null,
   "outputs": []
  },
  {
   "cell_type": "markdown",
   "source": "### Optimizing with initial conditions",
   "metadata": {
    "tags": [],
    "cell_id": "00007-1628979f-85ec-4a17-9a40-6eb27f98974e",
    "deepnote_cell_type": "text-cell-h3"
   }
  },
  {
   "cell_type": "code",
   "metadata": {
    "tags": [],
    "cell_id": "00006-aea8399d-336a-473d-928b-f5c06777bdf4",
    "deepnote_to_be_reexecuted": false,
    "source_hash": "123e8b4f",
    "execution_start": 1622444463033,
    "execution_millis": 3856,
    "deepnote_cell_type": "code"
   },
   "source": "p_1 = [1,8,10,10]\nres = minimize(model_pred_control, p_1, method='nelder-mead',\n               options={'maxiter':3000,'xatol': 1e-5, 'disp': True})",
   "execution_count": null,
   "outputs": [
    {
     "name": "stdout",
     "text": "Optimization terminated successfully.\n         Current function value: 11.811695\n         Iterations: 138\n         Function evaluations: 249\n",
     "output_type": "stream"
    }
   ]
  },
  {
   "cell_type": "markdown",
   "source": "### Time Evolution",
   "metadata": {
    "tags": [],
    "cell_id": "00009-de57ee99-f608-40d6-9cc9-95d8e7f7e19a",
    "deepnote_cell_type": "text-cell-h3"
   }
  },
  {
   "cell_type": "code",
   "metadata": {
    "tags": [],
    "cell_id": "00009-ec9c7aad-091c-4161-ac62-d3b5186abdf4",
    "deepnote_to_be_reexecuted": false,
    "source_hash": "ac63088c",
    "execution_start": 1622444467022,
    "execution_millis": 1033,
    "output_cleared": true,
    "deepnote_cell_type": "code"
   },
   "source": "def model_pred_control_2(p):\n    real_cart = CartPole()\n    real_cart.setState([0, 0, 0.1, 0])\n    real_state= np.zeros([50,5])\n    l = 0\n    for i in range(50):\n        l += real_cart.loss()\n        f = np.dot(p, real_cart.getState())\n        real_state[i, :4] =real_cart.getState()\n        real_state[i, -1] = f\n        real_cart.performAction(f)\n        real_cart.remap_angle()\n    return real_state\n\ndef model_pred_control_3(p,s):\n    real_cart = CartPole()\n    real_cart.setState(s)\n    real_state= np.zeros([50,5])\n    l = 0\n    for i in range(50):\n        l += real_cart.loss()\n        f = np.dot(p, real_cart.getState())\n        real_state[i, :4] =real_cart.getState()\n        real_state[i, -1] = f\n        real_cart.performAction(f)\n        real_cart.remap_angle()\n    return real_state\n\ncc = model_pred_control_3([0.7051,1.21512,16.311,2.506],[0,0,-0.2,0])\naa=model_pred_control_2([0.7051,1.21512,16.311,2.506])\nbb = model_pred_control_3([0.7051,1.21512,16.311,2.506],[0,0,0.6,0])\nt=np.arange(0,0.2*50,0.2)\nlabels=['Cart Location','Cart Velocity','Pole Angle','Pole Velocity']\nfor i in range(4):\n    plt.plot(t,aa[:,i],label ='[0,0,0.1,0')\n    plt.plot(t,bb[:,i],label='[0,0,0.3,0')\n    plt.xlabel('time(s')\n    plt.ylabel(labels[i])\n    plt.legend()\n    plt.show()",
   "execution_count": null,
   "outputs": []
  },
  {
   "cell_type": "code",
   "metadata": {
    "tags": [],
    "cell_id": "00010-eb7e2547-d441-45e1-8297-058d66deedd8",
    "deepnote_to_be_reexecuted": false,
    "source_hash": "775f8eeb",
    "execution_start": 1622279920732,
    "execution_millis": 1112,
    "output_cleared": true,
    "deepnote_cell_type": "code"
   },
   "source": "fig,axs = plt.subplots(2,2,figsize=(12, 6))\naxs[0,0].plot(t,aa[:,0],color='black', label = '[0, 0, 0.1, 0]')\naxs[0,0].plot(t,bb[:,0],color='royalblue',label = '[0,0,0.4,0]')\naxs[0,0].plot(t,cc[:,0],color='red', label='[0,0,-0.2,0]')\naxs[0,0].set_title('Time evolution of Cart Location')\naxs[0,0].set(xlabel='time (s)',ylabel='Cart Location',)\naxs[0,0].legend(loc='lower right')\n\naxs[0,1].plot(t,aa[:,1],color='black',label = '[0, 0, 0.1, 0]')\naxs[0,1].plot(t,bb[:,1],color='royalblue',label = '[0,0,0.4,0]')\naxs[0,1].plot(t,cc[:,1],color='red',label='[0,0,-0.2,0]')\naxs[0,1].set_title('Time evolution of Cart Velocity')\naxs[0,1].set(xlabel='time (s)',ylabel='Cart Velocity')\naxs[0,1].legend(loc='lower right')\n\naxs[1,0].plot(t,aa[:,2],color='black',label = '[0, 0, 0.1, 0]')\naxs[1,0].plot(t,bb[:,2],color='royalblue',label = '[0,0,0.4,0]')\naxs[1,0].plot(t,cc[:,2],color='red',label='[0,0,-0.2,0]')\naxs[1,0].set_title('Time evolution of Pole Angle')\naxs[1,0].set(xlabel='time (s)',ylabel='Pole angle')\naxs[1,0].legend(loc='lower right')\n\naxs[1,1].plot(t,aa[:,3],color = 'black',label = '[0, 0, 0.1, 0]')\naxs[1,1].plot(t,bb[:,3],color='royalblue',label = '[0,0,0.4,0]')\naxs[1,1].plot(t,cc[:,3],color='red',label='[0,0,-0.2,0]')\naxs[1,1].set_title('Time evolution of Pole Angular Velocity')\naxs[1,1].set(xlabel='time (s)',ylabel='Pole Angular Velocity')\naxs[1,1].set_ylim([-5,10])\naxs[1,1].legend(loc='lower right')\nfig.tight_layout()",
   "execution_count": null,
   "outputs": []
  },
  {
   "cell_type": "markdown",
   "source": "# Task 2.4",
   "metadata": {
    "tags": [],
    "cell_id": "00012-e1c1143c-9206-4dcc-bd62-d28bd60b776a",
    "deepnote_cell_type": "text-cell-h1"
   }
  },
  {
   "cell_type": "code",
   "metadata": {
    "tags": [],
    "cell_id": "00011-4a69ea14-c658-45a6-b807-ec174366362c",
    "deepnote_cell_type": "code"
   },
   "source": "Kernel Function \ndef kernel_func(x0,x1,sig):\n    delta_x = x0-x1\n    delta_x_2 = np.zeros([4,1])\n    for i in range(4):\n        delta_x_2[i]=(delta_x[i])**2\n    delta_x_2[2]=np.sin(0.5*(delta_x[2]))**2\n    expo = (-0.5)*float(np.dot(sig, delta_x_2))\n    kernel = np.e**expo\n    return kernel\n#range of input for creating data\ndef r_range(i, minimum,maximum):\n    d = i*(maximum-minimum)\n    output = np.full(np.shape(i),minimum)+d\n    return output\n#generate datapoints using sobol_seq\ndef generate_x(n):\n    x_data = sobol_seq.i4_sobol_generate(4,n)\n    d_0=r_range(x_data[:,0],-50,50)\n    d_1=r_range(x_data[:,1],-10,10)\n    d_2=r_range(x_data[:,2],-(np.pi),np.pi)\n    d_3=r_range(x_data[:,3],-15,15)\n    output = np.column_stack((d_0,d_1,d_2,d_3))\n    return output\ndef K_matrix(a,b,sig_invert):\n    A = np.shape(a)[0]\n    B = np.shape(b)[0]\n    K = np.zeros(shape=(A,B))\n    for i in range(A):\n        for j in range(B):\n            K[i][j] =kernel_func(a[i],b[j],sig_invert)\n    return K\n\nx= CartPole()\nN =500\nM = 200\nsigma =[2.63690e-16,1.6274e-06, 2.6313, 1.3831e-02, 2.464e-04]\nX = generate_x(N)\nX_M = generate_x(M)\nlamda = 1e-4\n# generate a Nx4 matrix\n# generate corresponding y\nY = np.zeros(shape=(N,4))\nfor i in range(N):\n    x.setState(X[i,:4])\n    x.performAction(X[i,-1])\n    Y[i] = x.getState() - X[i,:4]\n\nKNN = K_matrix(X,X, sigma)\nKMN = K_matrix(X_M, X, sigma)\nKNM = K_matrix(X, X_M, sigma)\nKMM = K_matrix(X_M, X_M, sigma)\n#alpha = (KMN@KNM + lamda*KMM)^-1(KMN@Y)\n#alpha = (c)^-1*(d)\nc = KMN @ KNM +lamda*KMM\nd = np.zeros([4,M])\nmatrix_alphas = np.zeros([4,M])\nfor i in range(4):\n    d[i] = KMN @ Y_change_State[:,i]\n    matrix_alphas[i]=np.linalg.lstsq(c,d[i],rcond=-1)[0]\ndef model_pred_control(p):\n    CartpoleState.setState([0, 0, 0.1, 0])\n    pred = np.zeros(shape=(15,5))\n    l = 0\n\n    for i in range(15):\n        l += CartpoleState.loss()\n        f = np.dot(p, CartpoleState.getState())\n        pred[i, :4] = CartpoleState.getState()\n        pred[i, -1] = f\n        K1M = np.array([kernel_func(pred[i], s,sigma) for s in X_M])\n        c = K1M @ matrix_alphas.transpose()\n        new_pred = c + pred[i,:4]\n        CartpoleState.setState(new_pred)\n        CartpoleState.remap_angle()\n    return l\n",
   "execution_count": null,
   "outputs": []
  },
  {
   "cell_type": "markdown",
   "source": "### Minimums",
   "metadata": {
    "tags": [],
    "cell_id": "00014-4935f436-24b0-4b2a-acb1-289612ec08a7",
    "deepnote_cell_type": "text-cell-h3"
   }
  },
  {
   "cell_type": "code",
   "source": "n_s = 200\nl = np.zeros([n_s,1])\np_cl=np.zeros([n_s,4])\nfor i in range(n_s):\n    p1 = [np.random.uniform(0,100),1,1,1]\n    p_cl[i] = p1\n    l[i]=model_pred_control(p1)\nl_cv = np.zeros([n_s,1])\np_cv=np.zeros([n_s,4])\nfor i in range(n_s):\n    p2 = [1,np.random.uniform(0,100),1,1]\n    p_cv[i] = p2\n    l_cv[i]=model_pred_control(p2)\nplt.scatter(p_cv[:,1],l_cv)\nplt.ylim(10,14)\nplt.xlabel('p2')\nplt.ylabel('Loss')\nplt.title('Varying p2')\nplt.show()\n",
   "metadata": {
    "tags": [],
    "cell_id": "00014-566b8ec7-8949-48f9-89cc-858c8cd4bf2d",
    "deepnote_cell_type": "code"
   },
   "outputs": [],
   "execution_count": null
  },
  {
   "cell_type": "markdown",
   "source": "### Time Evolution + Optimizing",
   "metadata": {
    "tags": [],
    "cell_id": "00016-477d87d9-70ca-43c0-9ea0-648781928514",
    "deepnote_cell_type": "text-cell-h3"
   }
  },
  {
   "cell_type": "code",
   "source": "res = minimize(model_pred_control, p_1, method='nelder-mead',\n               options={'maxiter':3000,'xatol': 1e-5, 'disp': True})\nprint(res.x)\ndef plot_evolution_policy(n, p):\n    CartpoleState = CartPole()\n    #Different intial states\n    init_state_array = np.array([[0, 0, 0.2, 0],[0, 0, 0.12, 0], [0, 0, 0.1, 0], [0, 0, 0.15, 0]])\n\n    x0 = np.zeros([4,n])\n    x1 = np.zeros([4,n])\n    x2 = np.zeros([4,n])\n    x3 = np.zeros([4,n])\n    x4 = np.zeros([4,n])\n\n    index = 0\n    for init in init_state_array:\n        CartpoleState.setState(init)\n        l = 0\n        for i in range(n):\n            cur_state = CartpoleState.getState()\n            x0[ind][i], x1[ind][i], x2[ind][i], x3[ind][i] = cur_state[0], cur_state[1], cur_state[2], cur_state[3]\n            l += CartpoleState.loss()\n            f = np.dot(p, CartpoleState.getState())\n            x4[ind][i] = f\n            K1M_pred = np.array([kernel_gauss(np.array([x0[ind][i], x1[ind][i], x2[ind][i], x3[ind][i],x4[ind][i]]), sset, one_over_sigma) for sset in Xs])\n            c = K1M_pred @ matrix_alphas.transpose()\n            new_pred = c + cur_state\n            CartpoleState.setState(new_pred)\n            CartpoleState.remap_angle()\n        index += 1\n    X = np.array([x0, x1, x2, x3, x4])\n\n\n    fig1, axs1 = plt.subplots(4,figsize=(10,5))\n    fig1.suptitle('Time evolution of variables')\n\n    time = np.arange(0, 0.2*n, 0.2)\n    states = [\"location\", \"velocity\", \"pole angle\", \"pole velocity\"]\n\n    index = 0\n    for i in range(4):\n        axs1[i].plot(time, X[index][0], color='royalblue',label = '[0, 0.2, 0, 0]')\n        axs1[i].plot(time, X[index][2], color='red' ,label = '[0, 0, 0.1, 0]')\n        axs1[i].plot(time, X[index][3],color = 'black', label = '[0, 0, 0.15, 0')\n        axs1[i].set(xlabel=\"Time\")\n        axs1[i].set(ylabel=states[index])\n        index += 1\n    axs1[0].legend(bbox_to_anchor=(1.1, 1.3), loc='upper right')\n    plt.show()",
   "metadata": {
    "tags": [],
    "cell_id": "00015-5eeb63d5-2f66-42fc-b625-2bed0b924431",
    "deepnote_cell_type": "code"
   },
   "outputs": [],
   "execution_count": null
  },
  {
   "cell_type": "markdown",
   "source": "<a style='text-decoration:none;line-height:16px;display:flex;color:#5B5B62;padding:10px;justify-content:end;' href='https://deepnote.com?utm_source=created-in-deepnote-cell&projectId=180073fb-9c10-447b-b721-e7b1d25fe36a' target=\"_blank\">\n<img alt='Created in deepnote.com' style='display:inline;max-height:16px;margin:0px;margin-right:7.5px;' src='data:image/svg+xml;base64,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' > </img>\nCreated in <span style='font-weight:600;margin-left:4px;'>Deepnote</span></a>",
   "metadata": {
    "tags": [],
    "created_in_deepnote_cell": true,
    "deepnote_cell_type": "markdown"
   }
  }
 ],
 "nbformat": 4,
 "nbformat_minor": 2,
 "metadata": {
  "orig_nbformat": 2,
  "deepnote": {
   "is_reactive": false
  },
  "deepnote_notebook_id": "9f1ce4d6-1aed-438e-8963-4b9cb22140a0",
  "deepnote_execution_queue": []
 }
}