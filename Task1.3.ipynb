{
 "cells": [
  {
   "cell_type": "code",
   "metadata": {
    "tags": [],
    "cell_id": "00000-224df490-84b5-4afa-a85b-a1126e84c581",
    "deepnote_to_be_reexecuted": false,
    "source_hash": "d7b02c07",
    "execution_start": 1623295945326,
    "execution_millis": 2073,
    "deepnote_cell_type": "code"
   },
   "source": "\nimport numpy as np\nimport random as rd\nimport autograd.numpy as np\nfrom matplotlib.pyplot import ion, draw, Rectangle, Line2D\nimport matplotlib.pyplot as plt\nimport matplotlib.tri as mtri \nfrom CartPole import *\nfrom sklearn import linear_model",
   "outputs": [],
   "execution_count": null
  },
  {
   "cell_type": "markdown",
   "source": "# Task 1.3",
   "metadata": {
    "tags": [],
    "cell_id": "00001-a818432a-6640-4571-b7cc-b49b8eaf90c1",
    "deepnote_cell_type": "text-cell-h1"
   }
  },
  {
   "cell_type": "markdown",
   "source": "### Linear Regression",
   "metadata": {
    "tags": [],
    "cell_id": "00002-ef902621-e45d-4e0d-90e1-4d9c56872c2b",
    "deepnote_cell_type": "text-cell-h3"
   }
  },
  {
   "cell_type": "code",
   "metadata": {
    "tags": [],
    "cell_id": "00004-c55e4bb8-d29c-4c4e-b06c-a1886209a3a3",
    "deepnote_to_be_reexecuted": false,
    "source_hash": "80abb646",
    "execution_start": 1623296256128,
    "execution_millis": 706,
    "is_output_hidden": false,
    "output_cleared": true,
    "deepnote_cell_type": "code"
   },
   "source": "x = CartPole()\nm = 500\nlabels = ['Cart location', 'Cart Velocity', 'Pole Angle', 'Pole Velocity']\ninitial_state,step_state,pred_next_state = np.zeros([m,4]),np.zeros([m,4]),np.zeros([m,4])\nfor i in range(m):\n    x.setState([3,3,np.random.uniform(-np.pi,np.pi),np.random.uniform(-15,15)])\n    initial_state[i] = x.getState()\n        #print(initial_state)\n        #print('--')\n    #Perform update\n    x.performAction()\n    x.remap_angle()\n    step_state[i] = x.getState()\n    x.reset()\n    #print(step_state)\nprint(initial_state)\nprint(step_state)    \nprint('y')\ny = np.zeros([4,m]),np.zeros([4,m]),np.zeros([4,m])\ny=step_state-initial_state\nprint(y)\ndef linear_r(x, y):\n    #matrix C(4 rows) with X to produce one value of Y\n    #method of least squared errors:\n    # #all y data is determined by all X data and the first row of C (which is also the first column of C.transpose())\n    C = np.zeros(shape=(4, 4))\n    for i in range(4):\n        C[i] = np.linalg.inv((x.T @ x))@ x.T @ y[:, i]\n    return C\nC =linear_r(initial_state, y)\nfor i in range(m):\n    pred_next_state[i] = x.getState()\n    x.setState(initial_state[i])\n    pred_change = C @ initial_state[i]\n    pred_next = pred_change + initial_state[i]\n    x.setState(pred_next)\n    x.remap_angle()\n\nfor i in range(4):\n    plt.scatter(initial_state[:,i], y[:,i],color= 'r')\n    plt.scatter(initial_state[:,i], pred_next_state[:,i], color = 'blue')\n    plt.show()",
   "execution_count": null,
   "outputs": []
  },
  {
   "cell_type": "code",
   "metadata": {
    "tags": [],
    "cell_id": "00008-939552b3-f4b2-4047-bab1-27663758e3b5",
    "deepnote_to_be_reexecuted": false,
    "source_hash": "71b5a035",
    "execution_start": 1621474989858,
    "execution_millis": 10,
    "is_output_hidden": false,
    "output_cleared": true,
    "deepnote_cell_type": "code"
   },
   "source": "x = CartPole()\nm = 500\nlabels = ['Cart location', 'Cart Velocity', 'Pole Angle', 'Pole Velocity']\ninitial_state,step_state = np.zeros([m,4]),np.zeros([m,4])\nfor i in range(m):\n    x.setState([3,3,np.pi,np.random.uniform(-15,15)])\n    initial_state[i] = x.getState()\n        #print(initial_state)\n        #print('--')\n    #Perform update\n    x.performAction()\n    step_state[i] = x.getState()\n    x.reset()\n    #print(step_state)\nprint(initial_state)\nprint(step_state)    \nprint('y')\ny = np.zeros([4,m]),np.zeros([4,m]),np.zeros([4,m])\ny=step_state-initial_state\nprint(y)",
   "execution_count": null,
   "outputs": []
  },
  {
   "cell_type": "code",
   "metadata": {
    "tags": [],
    "cell_id": "00010-bffed748-f578-47f9-abf7-8aaadb5ecb6e",
    "deepnote_to_be_reexecuted": false,
    "source_hash": "4c392fe5",
    "execution_start": 1621474993393,
    "execution_millis": 2,
    "deepnote_cell_type": "code"
   },
   "source": "def Linear_Reg_check(x,y):\n    model = linear_model.LinearRegression()\n    x_train=x[:250,]\n    y_train=y[:250,]\n    x_test=x[250:,]\n    y_test=y[250:,]\n    model.fit(x_train,y_train)\n    print(model.intercept_)\n    print(model.coef_)\n    y_pred=model.predict(x_test)\n    labels = ['Cart location', 'Cart Velocity', 'Pole Angle', 'Pole Velocity']\n    for j in range(4):\n        for i in range(4):\n            plt.scatter(x_test[:,[i]],y_test[:,[j]],label= 'Actual ' ,color='red')\n            plt.scatter(x_test[:,[i]],y_pred[:,[j]],label = 'Predicted ',color='blue')\n            plt.legend()\n            plt.xlabel('Input '+labels[i])\n            plt.ylabel('Prediction for Next '+labels[j])\n            plt.title('Prediction vs Input '+labels[i])\n            plt.show()",
   "execution_count": null,
   "outputs": []
  },
  {
   "cell_type": "markdown",
   "source": "# Task 1.4",
   "metadata": {
    "tags": [],
    "cell_id": "00007-4f5c4dbb-2b73-4a7a-b115-998e80ccfe12",
    "deepnote_cell_type": "text-cell-h1"
   }
  },
  {
   "cell_type": "code",
   "source": "m = 500\nTrainingCartPole = CartPole()\ntraining_X = np.zeros(shape=(m, 4))\ntraining_Y = np.zeros(shape=(m, 4))\n\nfor i in range(m):\n    TrainingCartPole.setState([np.random.uniform(-50, 50), np.random.uniform(-10, 10), np.random.uniform(-(np.pi), np.pi),\n                                  np.random.uniform(-15, 15)])\n    training_X[i] = TrainingCartPole.getState()\n    TrainingCartPole.performAction()\n    training_Y[i] = TrainingCartPole.getState() - training_X[i]\n\nC = np.zeros(shape=(4,4))\nfor i in range(4):\n    C[i] = np.linalg.inv((training_X.T @ training_X)) @ training_X.T @ training_Y[:,i]\nprint(C)\n\ndef linear_reg(x, y):\n    C = np.zeros(shape=(4, 4))\n    C = np.linalg.lstsq(x,y)\n    return C\n\n# replacing model.predict(x_test) \ndef predict_Y(C, X):\n    y_predict = np.matmul(C,np.transpose(X))\nm = 500\nlabels = ['Cart location', 'Cart Velocity', 'Pole Angle', 'Pole Velocity']\ntraining_initial_state,training_y = np.zeros([m,4]),np.zeros([m,4])\ntrainC=CartPole(visual=False)\nfor i in range(m):\n    trainC.setState([np.random.uniform(-30,30),np.random.uniform(-10,10),np.random.uniform(-np.pi,np.pi),np.random.uniform(-15,15)])\n    training_initial_state[i] = trainC.getState()\n    trainC.performAction()\n    trainC.remap_angle\n    training_y[i] =trainC.getState()-training_initial_state[i] \n\nprint(training_initial_state)\nprint(training_y)\ndef Linear_Reg(x,y):\n    model = linear_model.LinearRegression()\n    x_train=x\n    y_train=y\n    model.fit(x_train,y_train)\n    print(model.intercept_)\n    print(model.coef_)\n    c = model.coef_\n    return(c)\nc = Linear_Reg(training_initial_state,training_Y)",
   "metadata": {
    "tags": [],
    "cell_id": "00007-d22e6cb9-a12b-41dd-bc40-60fb1e6665e6",
    "deepnote_cell_type": "code"
   },
   "outputs": [],
   "execution_count": null
  },
  {
   "cell_type": "markdown",
   "source": "### Plot Time Evolution",
   "metadata": {
    "tags": [],
    "cell_id": "00008-4b8b6456-35f0-4eb9-8dd6-2d98715c9805",
    "deepnote_cell_type": "text-cell-h3"
   }
  },
  {
   "cell_type": "code",
   "source": "x = CartPole(visual=False)\nm = 500\nlabels = ['Cart location', 'Cart Velocity', 'Pole Angle', 'Pole Velocity']\nreal_states,pred_states,new_pred_state,actual_change = np.zeros([m,4]),np.zeros([m,4]),np.zeros([m,4]),np.zeros([m,4])\nx.setState([0,8,np.pi,13])\ninitial_state=x.getState()\nfor i in range(m):\n    real_states[i]= x.getState()\n    #Perform update\n    x.performAction()\n    actual_change[i]=x.getState()-real_states[i]\n    x.remap_angle()\nz=CartPole()\nz.setState([0,8,np.pi,13])\npred_c=np.zeros([m,4])\nfor i in range(m):\n    pred_states[i]=z.getState()\n    pred_change=np.matmul(c,pred_states[i])\n    pred_c[i]=pred_change\n    new_pred_state[i]=pred_change + pred_states[i]\n    z.setState(new_pred_state[i])\n    z.remap_angle()\nt=np.arange(0,0.2*m,0.2)\ndef plot_time_evolution(Y_actual, Y_pred, n):\n    labels = ['Cart location', 'Cart Velocity', 'Pole Angle', 'Pole Velocity']\n    #fig, axs = plt.subplots(2)\n    #fig.suptitle('4x4 State variation with time')\n    t=np.arange(0,0.2*m,0.2)\n    x_new = np.linspace(0,100,100000)\n    sp = interpolate.make_interp_spline(t, Y_actual[:,0])\n    y_new_1 = sp(x_new)\n    sp2= interpolate.make_interp_spline(t, Y_pred[:,0])\n    y_pred_1 = sp2(x_new)\n    plt.xlabel('time(s)')\n    plt.ylabel(labels[0])\n\n    plt.plot(x_new, y_new_1,color='royalblue',label='Real')\n    plt.plot(x_new, y_pred_1,color='red', label = 'Predicted')\n    plt.legend()\n    plt.title(\"State Variation with Time with Simple Oscillation\")\n    plt.show()\n\n    x_new = np.linspace(0,100,100000)\n    sp = interpolate.make_interp_spline(t, Y_actual[:,1])\n    y_new_1 = sp(x_new)\n    sp2= interpolate.make_interp_spline(t, Y_pred[:,1])\n    y_pred_2 = sp2(x_new)\n    plt.xlabel('time(s)')\n    plt.ylabel(labels[1])\n    plt.plot(x_new, y_new_1,color='royalblue',label='Real')\n    plt.plot(x_new, y_pred_2,color='red', label = 'Predicted')\n    plt.legend()\n    plt.title(\"State Variation with Time with Simple Oscillation\")\n    plt.show()\n    x_new = np.linspace(0,100,100000)\n    sp = interpolate.make_interp_spline(t, Y_actual[:,2])\n    y_new_3= sp(x_new)\n    sp2= interpolate.make_interp_spline(t, Y_pred[:,2])\n    y_pred_3 = sp2(x_new)\n    plt.xlabel('time(s)')\n    plt.ylabel(labels[2])\n    plt.plot(x_new, y_new_3,color='royalblue',label='Real')\n    plt.plot(x_new, y_pred_3,color='red', label = 'Predicted')\n    plt.legend()\n    plt.title(\"State Variation with Time with Simple Oscillation\")\n    plt.show()\n    x_new = np.linspace(0,100,100000)\n    sp = interpolate.make_interp_spline(t, Y_actual[:,3])\n    y_new_4 = sp(x_new)\n    sp2= interpolate.make_interp_spline(t, Y_pred[:,3])\n    y_pred_4 = sp2(x_new)\n    plt.xlabel('time(s)')\n    plt.ylabel(labels[3])\n\n    plt.plot(x_new, y_new_4,color='royalblue',label='Real')\n    plt.plot(x_new, y_pred_4,color='red', label = 'Predicted')\n    plt.legend()\n    plt.title(\"State Variation with Time with Simple Oscillation\")\n    plt.show()\n\n",
   "metadata": {
    "tags": [],
    "cell_id": "00008-94af95ee-2aae-4abc-bae4-58368ac153b7",
    "deepnote_cell_type": "code"
   },
   "outputs": [],
   "execution_count": null
  },
  {
   "cell_type": "markdown",
   "source": "<a style='text-decoration:none;line-height:16px;display:flex;color:#5B5B62;padding:10px;justify-content:end;' href='https://deepnote.com?utm_source=created-in-deepnote-cell&projectId=180073fb-9c10-447b-b721-e7b1d25fe36a' target=\"_blank\">\n<img alt='Created in deepnote.com' style='display:inline;max-height:16px;margin:0px;margin-right:7.5px;' src='data:image/svg+xml;base64,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' > </img>\nCreated in <span style='font-weight:600;margin-left:4px;'>Deepnote</span></a>",
   "metadata": {
    "tags": [],
    "created_in_deepnote_cell": true,
    "deepnote_cell_type": "markdown"
   }
  }
 ],
 "nbformat": 4,
 "nbformat_minor": 2,
 "metadata": {
  "orig_nbformat": 2,
  "deepnote": {
   "is_reactive": false
  },
  "deepnote_notebook_id": "3a0c53b9-f102-4cf7-a652-6e7d7f4d6b88",
  "deepnote_execution_queue": []
 }
}